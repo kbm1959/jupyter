{
  "cells": [
    {
      "cell_type": "markdown",
      "metadata": {
        "id": "view-in-github",
        "colab_type": "text"
      },
      "source": [
        "<a href=\"https://colab.research.google.com/github/kbm1959/jupyter/blob/main/neuralNetwork.ipynb\" target=\"_parent\"><img src=\"https://colab.research.google.com/assets/colab-badge.svg\" alt=\"Open In Colab\"/></a>"
      ]
    },
    {
      "cell_type": "markdown",
      "source": [
        "# Neural Network Class Definition\n",
        "In essence, this code defines a simple neural network capable of learning patterns from data and making predictions. The train method adjusts the network's weights to improve its accuracy, while the query method uses the trained network to classify new data. The backquery method provides a way to explore the internal representations learned by the network."
      ],
      "metadata": {
        "id": "JfD9v5y91CQ2"
      },
      "id": "JfD9v5y91CQ2"
    },
    {
      "cell_type": "code",
      "execution_count": null,
      "id": "dc13eca2",
      "metadata": {
        "id": "dc13eca2"
      },
      "outputs": [],
      "source": [
        "import numpy\n",
        "# import scypi.special for the sigmoid function expit()\n",
        "import scipy.special\n",
        "# library for plotting arrays\n",
        "import matplotlib.pyplot\n",
        "# ensure the plots are inside the notebook\n",
        "%matplotlib inline\n",
        "\n",
        "# neural network class definition\n",
        "class neuralNetwork:\n",
        "\n",
        "    #initialize the neural network\n",
        "    def __init__(self, inputnodes, hiddennodes, outputnodes, learningrate):\n",
        "        # set number of nodes in each input, hidden and output layer\n",
        "        self.inodes = inputnodes\n",
        "        self.hnodes = hiddennodes\n",
        "        self.onodes = outputnodes\n",
        "\n",
        "        # learning rate\n",
        "        self.lr = learningrate\n",
        "\n",
        "        # link weight matrices wih and who\n",
        "        # weights inside the rray are w_i_j\n",
        "        # where link is from node i to node j in the next layer\n",
        "        # w11 w21 ...\n",
        "        # w12 w22 ...\n",
        "        # ...\n",
        "        # self.wih = (numpy.random.rand(self.hnodes, self.inodes) - 0.5)\n",
        "        # self.who = (numpy.random.rand(self.onodes, self.hnodes) - 0.5)\n",
        "        self.wih = numpy.random.normal(0.0, pow(self.hnodes, -0.5), (self.hnodes, self.inodes))\n",
        "        self.who = numpy.random.normal(0.0, pow(self.onodes, -0.5), (self.onodes, self.hnodes))\n",
        "\n",
        "        # activation function ist the sigmoid function\n",
        "        self.activation_function = lambda x: scipy.special.expit(x)\n",
        "        self.inverse_activation_function = lambda x: scipy.special.logit(x)\n",
        "        pass\n",
        "\n",
        "\n",
        "    #train the neural network\n",
        "    def train(self, inputs_list, targets_list):\n",
        "        # convert list parameters to 2d arrays\n",
        "        inputs = numpy.array(inputs_list, ndmin=2).T\n",
        "        targets = numpy.array(targets_list, ndmin=2).T\n",
        "\n",
        "        # calculate signals into hidden layer\n",
        "        hidden_inputs = numpy.dot(self.wih, inputs)\n",
        "        # calculate the signal emerging from hidden layer\n",
        "        hidden_outputs = self.activation_function(hidden_inputs)\n",
        "\n",
        "        # calculate signals into final output layer\n",
        "        final_inputs = numpy.dot(self.who, hidden_outputs)\n",
        "        # calculate the signals emerging from the final output layer\n",
        "        final_outputs = self.activation_function(final_inputs)\n",
        "\n",
        "        # error is (target - actual)\n",
        "        output_errors = targets - final_outputs\n",
        "\n",
        "        # hidden layer error is the output_errors, split by weights, recombined at hidden nodes\n",
        "        hidden_errors = numpy.dot(self.who.T, output_errors)\n",
        "\n",
        "        # update the weights for the links between the hidden and the output layers\n",
        "        self.who += self.lr * numpy.dot((output_errors * final_outputs * (1 - final_outputs)), numpy.transpose(hidden_outputs))\n",
        "        # update the weights for the links between the input and the hidden layers\n",
        "        self.wih += self.lr * numpy.dot((hidden_errors * hidden_outputs * (1 - hidden_outputs)), numpy.transpose(inputs))\n",
        "\n",
        "        pass\n",
        "\n",
        "    #query the neural network\n",
        "    def query(self, inputs_list):\n",
        "        # convert inputs list to 2d array\n",
        "        inputs = numpy.array(inputs_list, ndmin=2).T\n",
        "\n",
        "        # calculate signals into hidden layer\n",
        "        hidden_inputs = numpy.dot(self.wih, inputs)\n",
        "        # calculate the signal emerging from hidden layer\n",
        "        hidden_outputs = self.activation_function(hidden_inputs)\n",
        "\n",
        "        # calculate signals into final output layer\n",
        "        final_inputs = numpy.dot(self.who, hidden_outputs)\n",
        "        # calculate the signals emerging from the final output layer\n",
        "        final_outputs = self.activation_function(final_inputs)\n",
        "\n",
        "        return final_outputs\n",
        "\n",
        "    # backquery the neural network\n",
        "    # we'll use the same termnimology to each item,\n",
        "    # eg target are the values at the right of the network, albeit used as input\n",
        "    # eg hidden_output is the signal to the right of the middle nodes\n",
        "    def backquery(self, targets_list):\n",
        "        # transpose the targets list to a vertical array\n",
        "        final_outputs = numpy.array(targets_list, ndmin=2).T\n",
        "\n",
        "        # calculate the signal into the final output layer\n",
        "        final_inputs = self.inverse_activation_function(final_outputs)\n",
        "\n",
        "        # calculate the signal out of the hidden layer\n",
        "        hidden_outputs = numpy.dot(self.who.T, final_inputs)\n",
        "        # scale them back to 0.01 to .99\n",
        "        hidden_outputs -= numpy.min(hidden_outputs)\n",
        "        hidden_outputs /= numpy.max(hidden_outputs)\n",
        "        hidden_outputs *= 0.98\n",
        "        hidden_outputs += 0.01\n",
        "\n",
        "        # calculate the signal into the hidden layer\n",
        "        hidden_inputs = self.inverse_activation_function(hidden_outputs)\n",
        "\n",
        "        # calculate the signal out of the input layer\n",
        "        inputs = numpy.dot(self.wih.T, hidden_inputs)\n",
        "        # scale them back to 0.01 to .99\n",
        "        inputs -= numpy.min(inputs)\n",
        "        inputs /= numpy.max(inputs)\n",
        "        inputs *= 0.98\n",
        "        inputs += 0.01\n",
        "\n",
        "        return inputs\n"
      ]
    },
    {
      "cell_type": "markdown",
      "source": [
        "# Mount Google Drive"
      ],
      "metadata": {
        "id": "l_sqxd_x1fhp"
      },
      "id": "l_sqxd_x1fhp"
    },
    {
      "cell_type": "code",
      "source": [
        "# mount drive to access data files\n",
        "from google.colab import drive\n",
        "drive.mount('./mount')"
      ],
      "metadata": {
        "colab": {
          "base_uri": "https://localhost:8080/"
        },
        "id": "l4pWVzF8Su9N",
        "outputId": "2d233617-c492-4663-dc7a-4b714d61122f"
      },
      "id": "l4pWVzF8Su9N",
      "execution_count": null,
      "outputs": [
        {
          "output_type": "stream",
          "name": "stdout",
          "text": [
            "Mounted at ./mount\n"
          ]
        }
      ]
    },
    {
      "cell_type": "markdown",
      "source": [
        "# Train the neural network\n",
        "Define the dimensions of the network,\n",
        "load training data from google drive and\n",
        "set training parameters:\n",
        "- learning rate\n",
        "- number of epochs\n",
        "\n",
        "then train the network."
      ],
      "metadata": {
        "id": "lthzFaGL1s1X"
      },
      "id": "lthzFaGL1s1X"
    },
    {
      "cell_type": "code",
      "execution_count": null,
      "id": "4ccec99e",
      "metadata": {
        "colab": {
          "base_uri": "https://localhost:8080/"
        },
        "id": "4ccec99e",
        "outputId": "3145d018-f02f-41b4-e169-f109f7b421b2"
      },
      "outputs": [
        {
          "output_type": "stream",
          "name": "stdout",
          "text": [
            "CPU times: user 10min 9s, sys: 8min 15s, total: 18min 25s\n",
            "Wall time: 11min 3s\n"
          ]
        }
      ],
      "source": [
        "%%time\n",
        "# train the neural network\n",
        "# number of input, hidden and output nodes\n",
        "input_nodes = 784\n",
        "hidden_nodes = 100\n",
        "output_nodes = 10\n",
        "\n",
        "# learning_rate is 0.3\n",
        "learning_rate = 0.02\n",
        "\n",
        "# create instance of neuralNetwork\n",
        "n = neuralNetwork(input_nodes, hidden_nodes, output_nodes, learning_rate)\n",
        "\n",
        "# load the training data\n",
        "training_data_file = open(\"mount/My Drive/Colab Notebooks/neuralnetworks/mnist_data/mnist_train.csv\",'r')\n",
        "training_data_list = training_data_file.readlines()\n",
        "training_data_file.close()\n",
        "\n",
        "# epochs is the number of times the training data is used for training\n",
        "epochs = 5\n",
        "\n",
        "for e in range(epochs):\n",
        "    # go through all records in the training data list\n",
        "    for record in training_data_list:\n",
        "        # split the records by the commas\n",
        "        all_values = record.split(',')\n",
        "        # scale and shift the inputs\n",
        "        inputs = (numpy.asfarray(all_values[1:]) / 255 * 0.99) + 0.01\n",
        "        #create the target output values\n",
        "        targets = numpy.zeros(output_nodes) + 0.01\n",
        "        # create the target label for this record\n",
        "        targets[int(all_values[0])] = 0.99\n",
        "        n.train(inputs, targets)\n",
        "\n",
        "        ## create rotated variations\n",
        "        # rotated anticlockwise by 10 degrees\n",
        "        inputs_plus10_img = scipy.ndimage.rotate(inputs.reshape(28,28), 10, cval=0.01, order=1, reshape=False)\n",
        "        n.train(inputs_plus10_img.reshape(784), targets)\n",
        "        # rotated clockwise by 10 degrees\n",
        "        inputs_minus10_img = scipy.ndimage.rotate(inputs.reshape(28,28), -10, cval=0.01, order=1, reshape=False)\n",
        "        n.train(inputs_minus10_img.reshape(784), targets)\n",
        "\n",
        "        pass\n",
        "    pass"
      ]
    },
    {
      "cell_type": "markdown",
      "source": [
        "# Load test data"
      ],
      "metadata": {
        "id": "5KktxcBE23Dd"
      },
      "id": "5KktxcBE23Dd"
    },
    {
      "cell_type": "code",
      "execution_count": null,
      "id": "06287850",
      "metadata": {
        "id": "06287850"
      },
      "outputs": [],
      "source": [
        "# load the test data\n",
        "test_data_file = open(\"mount/My Drive/Colab Notebooks/neuralnetworks/mnist_data/mnist_test.csv\",'r')\n",
        "test_data_list = test_data_file.readlines()\n",
        "test_data_file.close()"
      ]
    },
    {
      "cell_type": "markdown",
      "id": "54b54d69",
      "metadata": {
        "id": "54b54d69"
      },
      "source": [
        "## Test the neural network"
      ]
    },
    {
      "cell_type": "code",
      "execution_count": null,
      "id": "975e297c",
      "metadata": {
        "colab": {
          "base_uri": "https://localhost:8080/"
        },
        "id": "975e297c",
        "outputId": "1b91f810-9cc3-4aac-e5de-5ad4023844f7"
      },
      "outputs": [
        {
          "output_type": "stream",
          "name": "stdout",
          "text": [
            "performance:  96.88  %\n"
          ]
        }
      ],
      "source": [
        "# scorecard for how well the network performes, initially empty\n",
        "scorecard = []\n",
        "\n",
        "# go through all the records in the test data set\n",
        "for record in test_data_list:\n",
        "    # split the record by the ','\n",
        "    all_values = record.split(',')\n",
        "    # correct answer ist first value\n",
        "    correct_label = int(all_values[0])\n",
        "#    print('correct label: ',correct_label)\n",
        "    # scale and shift the inputs\n",
        "    inputs = (numpy.asfarray(all_values[1:])/ 255.0 * 0.99) + 0.01\n",
        "    # query the network\n",
        "    outputs = n.query(inputs)\n",
        "    # the indes of the highest value corresponds to the label\n",
        "    label = numpy.argmax(outputs)\n",
        "#    print(\"network's answer: \", label)\n",
        "    # append correct or incorrect to list\n",
        "    if (label == correct_label):\n",
        "        # networks answer matches correct label, add 1 to scorecard\n",
        "        scorecard.append(1)\n",
        "    else:\n",
        "        # networks answer doesn't match the correct answer, add 0 to scorecard\n",
        "        scorecard.append(0)\n",
        "        pass\n",
        "\n",
        "    pass\n",
        "\n",
        "# calcuate the performance score\n",
        "scorecard_array = numpy.asarray(scorecard)\n",
        "print(\"performance: \", scorecard_array.sum() / scorecard_array.size * 100,\" %\")"
      ]
    },
    {
      "cell_type": "markdown",
      "source": [
        "# Helper Functions\n",
        "define some helper functions for analyzing individual results"
      ],
      "metadata": {
        "id": "q_OKWRB03XEr"
      },
      "id": "q_OKWRB03XEr"
    },
    {
      "cell_type": "code",
      "execution_count": null,
      "id": "5befe85e",
      "metadata": {
        "id": "5befe85e"
      },
      "outputs": [],
      "source": [
        "def show_n(img, size = 0.5):\n",
        "    matplotlib.pyplot.figure(figsize=(size,size))\n",
        "    matplotlib.pyplot.imshow(img, cmap='Greys', interpolation='None')\n",
        "    matplotlib.pyplot.show()"
      ]
    },
    {
      "cell_type": "code",
      "execution_count": null,
      "id": "02b572d5",
      "metadata": {
        "id": "02b572d5"
      },
      "outputs": [],
      "source": [
        "def show_number(n, dlist):\n",
        "\n",
        "    all_values = dlist[n].split(',')\n",
        "    print(all_values[0])\n",
        "    image_array = numpy.asfarray(all_values[1:]).reshape((28,28))\n",
        "    show_n(image_array)\n",
        "pass"
      ]
    },
    {
      "cell_type": "code",
      "execution_count": null,
      "id": "6922e49a",
      "metadata": {
        "scrolled": false,
        "colab": {
          "base_uri": "https://localhost:8080/",
          "height": 306
        },
        "id": "6922e49a",
        "outputId": "a7f1c849-73a2-4284-ab19-7ec2ebec40b3"
      },
      "outputs": [
        {
          "output_type": "stream",
          "name": "stdout",
          "text": [
            "4\n"
          ]
        },
        {
          "output_type": "display_data",
          "data": {
            "text/plain": [
              "<Figure size 50x50 with 1 Axes>"
            ],
            "image/png": "[encoded data removed]"
          },
          "metadata": {}
        },
        {
          "output_type": "execute_result",
          "data": {
            "text/plain": [
              "array([[0.00730128],\n",
              "       [0.00168518],\n",
              "       [0.00923008],\n",
              "       [0.0013509 ],\n",
              "       [0.98498567],\n",
              "       [0.00746601],\n",
              "       [0.00643579],\n",
              "       [0.00471284],\n",
              "       [0.00213826],\n",
              "       [0.03733636]])"
            ]
          },
          "metadata": {},
          "execution_count": 8
        }
      ],
      "source": [
        "i = 103\n",
        "all_values = test_data_list[i].split(',')\n",
        "show_number(i, test_data_list)\n",
        "n.query((numpy.asfarray(all_values[1:]) / 255 * 0.99) + 0.01)"
      ]
    },
    {
      "cell_type": "markdown",
      "id": "c848109e",
      "metadata": {
        "id": "c848109e"
      },
      "source": [
        "# Evaluate own test data\n",
        "define some helper fundtions"
      ]
    },
    {
      "cell_type": "code",
      "execution_count": null,
      "id": "8fc7948a",
      "metadata": {
        "id": "8fc7948a"
      },
      "outputs": [],
      "source": [
        "#import imageio\n",
        "import imageio.v2 as imageio #(v3 also exists!)"
      ]
    },
    {
      "cell_type": "code",
      "execution_count": null,
      "id": "bd99ddf9",
      "metadata": {
        "id": "bd99ddf9"
      },
      "outputs": [],
      "source": [
        "# compute the center of mass of a grayscale image\n",
        "# imput is an image array\n",
        "def center_of(grey_scale_img):\n",
        "    mass = 0\n",
        "    xs = 0\n",
        "    ys = 0\n",
        "    for i in range(len(grey_scale_img)):\n",
        "        for j in range(len(grey_scale_img[0])):\n",
        "            if grey_scale_img[i][j] != 0:\n",
        "                m = grey_scale_img[i][j]\n",
        "                mass += m\n",
        "                xs += m * j\n",
        "                ys += m * i\n",
        "    return [int(xs/mass),int(ys/mass)]\n"
      ]
    },
    {
      "cell_type": "code",
      "execution_count": null,
      "id": "54cc11bc",
      "metadata": {
        "id": "54cc11bc"
      },
      "outputs": [],
      "source": [
        "def show_n(img, size = 0.5):\n",
        "    matplotlib.pyplot.figure(figsize=(size,size))\n",
        "    matplotlib.pyplot.imshow(img, cmap='Greys', interpolation='None')\n",
        "    matplotlib.pyplot.show()"
      ]
    },
    {
      "cell_type": "code",
      "execution_count": null,
      "id": "c6f5ee3a",
      "metadata": {
        "id": "c6f5ee3a"
      },
      "outputs": [],
      "source": [
        "def shift_vert(img, n = 1):\n",
        "    l = len(img)\n",
        "    zeros = numpy.zeros((abs(n),l),dtype='int')\n",
        "    if n >= 0:\n",
        "        return numpy.append(img[n:], zeros, axis=0)\n",
        "    else :\n",
        "        return numpy.append(zeros, img[:n], axis=0)"
      ]
    },
    {
      "cell_type": "code",
      "execution_count": null,
      "id": "4e0f4a6f",
      "metadata": {
        "id": "4e0f4a6f"
      },
      "outputs": [],
      "source": [
        "def shift_hor(img, n = 1):\n",
        "    return shift_vert(img.T, -n).T"
      ]
    },
    {
      "cell_type": "code",
      "execution_count": null,
      "id": "78bd9f9b",
      "metadata": {
        "id": "78bd9f9b"
      },
      "outputs": [],
      "source": [
        "def center_img(img, xs = 13, ys = 14):\n",
        "    center = center_of(img)\n",
        "    dx = xs - center[0]\n",
        "    dy = center[1] - ys\n",
        "    c_img = shift_hor(img, dx)\n",
        "    c_img = shift_vert(c_img, dy)\n",
        "    return c_img"
      ]
    },
    {
      "cell_type": "markdown",
      "source": [
        "# Single Test\n",
        "enter a path to a single 28x28 image and feed it to the neural network"
      ],
      "metadata": {
        "id": "FWZknXNU4hxI"
      },
      "id": "FWZknXNU4hxI"
    },
    {
      "cell_type": "code",
      "execution_count": null,
      "id": "43b75728",
      "metadata": {
        "colab": {
          "base_uri": "https://localhost:8080/",
          "height": 324
        },
        "id": "43b75728",
        "outputId": "3b1ab0ec-65b9-4000-fe5b-0a7516eb337d"
      },
      "outputs": [
        {
          "output_type": "display_data",
          "data": {
            "text/plain": [
              "<Figure size 50x50 with 1 Axes>"
            ],
            "image/png": "[encoded data removed]"
          },
          "metadata": {}
        },
        {
          "output_type": "stream",
          "name": "stdout",
          "text": [
            "the number is:  9\n",
            "the center is:  [13, 14]\n",
            "[[3.07260530e-01]\n",
            " [8.00944445e-03]\n",
            " [5.22823981e-03]\n",
            " [1.93764128e-04]\n",
            " [5.51392380e-03]\n",
            " [8.00074051e-02]\n",
            " [6.52283630e-02]\n",
            " [1.29762618e-02]\n",
            " [7.01983221e-03]\n",
            " [3.28920515e-01]]\n"
          ]
        }
      ],
      "source": [
        "number = 255 - (imageio.imread(\"mount/My Drive/Colab Notebooks/MNIST_Data/Hannah/thumbs/0-n.png\", mode='L'))\n",
        "number = center_img(number)\n",
        "show_n(number)\n",
        "np_number = (numpy.asfarray(number).reshape(1,28*28)) / 255 * 0.99 + 0.01\n",
        "result = n.query(np_number)\n",
        "label = numpy.argmax(result)\n",
        "print('the number is: ',label)\n",
        "print('the center is: ',center_of(number))\n",
        "print(result)"
      ]
    },
    {
      "cell_type": "markdown",
      "source": [
        "# Analyze images in directory"
      ],
      "metadata": {
        "id": "DQ1E80P04yCu"
      },
      "id": "DQ1E80P04yCu"
    },
    {
      "cell_type": "code",
      "execution_count": null,
      "id": "337f0ece",
      "metadata": {
        "colab": {
          "base_uri": "https://localhost:8080/",
          "height": 1000
        },
        "id": "337f0ece",
        "outputId": "f66da6ff-e6af-452c-ba0e-a7ac9d90b1f5"
      },
      "outputs": [
        {
          "output_type": "display_data",
          "data": {
            "text/plain": [
              "<Figure size 50x50 with 1 Axes>"
            ],
            "image/png": "[encoded data removed]"
          },
          "metadata": {}
        },
        {
          "output_type": "stream",
          "name": "stdout",
          "text": [
            "the number is:  8\n"
          ]
        },
        {
          "output_type": "display_data",
          "data": {
            "text/plain": [
              "<Figure size 50x50 with 1 Axes>"
            ],
            "image/png": "[encoded data removed]"
          },
          "metadata": {}
        },
        {
          "output_type": "stream",
          "name": "stdout",
          "text": [
            "the number is:  9\n"
          ]
        },
        {
          "output_type": "display_data",
          "data": {
            "text/plain": [
              "<Figure size 50x50 with 1 Axes>"
            ],
            "image/png": "[encoded data removed]"
          },
          "metadata": {}
        },
        {
          "output_type": "stream",
          "name": "stdout",
          "text": [
            "the number is:  2\n"
          ]
        },
        {
          "output_type": "display_data",
          "data": {
            "text/plain": [
              "<Figure size 50x50 with 1 Axes>"
            ],
            "image/png": "[encoded data removed]"
          },
          "metadata": {}
        },
        {
          "output_type": "stream",
          "name": "stdout",
          "text": [
            "the number is:  3\n"
          ]
        },
        {
          "output_type": "display_data",
          "data": {
            "text/plain": [
              "<Figure size 50x50 with 1 Axes>"
            ],
            "image/png": "[encoded data removed]"
          },
          "metadata": {}
        },
        {
          "output_type": "stream",
          "name": "stdout",
          "text": [
            "the number is:  5\n"
          ]
        },
        {
          "output_type": "display_data",
          "data": {
            "text/plain": [
              "<Figure size 50x50 with 1 Axes>"
            ],
            "image/png": "[encoded data removed]"
          },
          "metadata": {}
        },
        {
          "output_type": "stream",
          "name": "stdout",
          "text": [
            "the number is:  0\n"
          ]
        },
        {
          "output_type": "display_data",
          "data": {
            "text/plain": [
              "<Figure size 50x50 with 1 Axes>"
            ],
            "image/png": "[encoded data removed]"
          },
          "metadata": {}
        },
        {
          "output_type": "stream",
          "name": "stdout",
          "text": [
            "the number is:  3\n"
          ]
        },
        {
          "output_type": "display_data",
          "data": {
            "text/plain": [
              "<Figure size 50x50 with 1 Axes>"
            ],
            "image/png": "[encoded data removed]"
          },
          "metadata": {}
        },
        {
          "output_type": "stream",
          "name": "stdout",
          "text": [
            "the number is:  2\n"
          ]
        },
        {
          "output_type": "display_data",
          "data": {
            "text/plain": [
              "<Figure size 50x50 with 1 Axes>"
            ],
            "image/png": "[encoded data removed]"
          },
          "metadata": {}
        },
        {
          "output_type": "stream",
          "name": "stdout",
          "text": [
            "the number is:  4\n"
          ]
        },
        {
          "output_type": "display_data",
          "data": {
            "text/plain": [
              "<Figure size 50x50 with 1 Axes>"
            ],
            "image/png": "[encoded data removed]"
          },
          "metadata": {}
        },
        {
          "output_type": "stream",
          "name": "stdout",
          "text": [
            "the number is:  7\n",
            "performance:  70.0  %\n"
          ]
        }
      ],
      "source": [
        "from pathlib import Path\n",
        "scorecard = []\n",
        "for file in Path(\"mount/My Drive/Colab Notebooks/MNIST_Data/Hannah/thumbs\").iterdir():\n",
        "    if not file.is_file():\n",
        "        continue\n",
        "    if str(file).lower().endswith(('.png', '.jpg', '.jpeg', '.tiff', '.bmp', '.gif')):\n",
        "        number = center_img(255 - imageio.imread(file, mode='L'), 14, 14)\n",
        "#        number = 255 - imageio.imread(file, mode='L')\n",
        "        correct_label = int(Path(file).stem[0])\n",
        "        np_number = (numpy.asfarray(number).reshape(1,28*28)) / 255 * 0.99 + 0.01\n",
        "        result = n.query(np_number)\n",
        "        label = numpy.argmax(result)\n",
        "        # append correct or incorrect to list\n",
        "        if (label == correct_label):\n",
        "            # networks answer matches correct label, add 1 to scorecard\n",
        "            scorecard.append(1)\n",
        "        else:\n",
        "            # networks answer doesn't match the correct answer, add 0 to scorecard\n",
        "            scorecard.append(0)\n",
        "        show_n(number)\n",
        "        print('the number is: ',label)\n",
        "\n",
        "print(\"performance: \", sum(scorecard) / len(scorecard) * 100,\" %\")\n"
      ]
    },
    {
      "cell_type": "markdown",
      "source": [
        "# Backward analysis of the neural network"
      ],
      "metadata": {
        "id": "CUNzALXZ5AtF"
      },
      "id": "CUNzALXZ5AtF"
    },
    {
      "cell_type": "code",
      "execution_count": null,
      "id": "5f39b17c",
      "metadata": {
        "colab": {
          "base_uri": "https://localhost:8080/",
          "height": 159
        },
        "id": "5f39b17c",
        "outputId": "8e5275a6-8a75-4454-ee4d-496f09691e6e"
      },
      "outputs": [
        {
          "output_type": "stream",
          "name": "stdout",
          "text": [
            "[0.01 0.01 0.99 0.01 0.01 0.01 0.01 0.01 0.01 0.01]\n"
          ]
        },
        {
          "output_type": "display_data",
          "data": {
            "text/plain": [
              "<Figure size 100x100 with 1 Axes>"
            ],
            "image/png": "[encoded data removed]"
          },
          "metadata": {}
        }
      ],
      "source": [
        "# run the network backwards, given a label, see what image it produces\n",
        "\n",
        "# label to test\n",
        "label = 2\n",
        "# create the output signals for this label\n",
        "targets = numpy.zeros(output_nodes) + 0.01\n",
        "# all_values[0] is the target label for this record\n",
        "targets[label] = 0.99\n",
        "print(targets)\n",
        "\n",
        "# get image data\n",
        "image_data = n.backquery(targets)\n",
        "\n",
        "# plot image data\n",
        "#matplotlib.pyplot.imshow(image_data.reshape(28,28), cmap='Greys', interpolation='None')\n",
        "show_n(image_data.reshape(28,28),size=1)"
      ]
    },
    {
      "cell_type": "code",
      "execution_count": null,
      "id": "2f970fab",
      "metadata": {
        "id": "2f970fab"
      },
      "outputs": [],
      "source": []
    }
  ],
  "metadata": {
    "kernelspec": {
      "display_name": "Python 3 (ipykernel)",
      "language": "python",
      "name": "python3"
    },
    "language_info": {
      "codemirror_mode": {
        "name": "ipython",
        "version": 3
      },
      "file_extension": ".py",
      "mimetype": "text/x-python",
      "name": "python",
      "nbconvert_exporter": "python",
      "pygments_lexer": "ipython3",
      "version": "3.11.2"
    },
    "colab": {
      "provenance": [],
      "include_colab_link": true
    }
  },
  "nbformat": 4,
  "nbformat_minor": 5
}